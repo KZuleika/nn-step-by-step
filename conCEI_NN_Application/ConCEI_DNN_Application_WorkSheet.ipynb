{
 "cells": [
  {
   "cell_type": "markdown",
   "metadata": {},
   "source": [
    "# Red neuronal profunda para clasificación de imágenes\n",
    "\n",
    "Usremos las funciones implementadas en el ejercicio anterior para construir una red neuronal profunda y aplicarla a una clasificación de imágenes (gato o no gato).\n"
   ]
  },
  {
   "cell_type": "markdown",
   "metadata": {},
   "source": [
    "## 1 - Paquetes"
   ]
  },
  {
   "cell_type": "markdown",
   "metadata": {},
   "source": [
    "- [numpy](https://www.numpy.org/) Paquete de cómputo científico.\n",
    "- [matplotlib](http://matplotlib.org) Biblioteca para generar gráficos en Python.\n",
    "- [h5py](http://www.h5py.org) Paquete para trabajar con bancos de datos en archivos h5.\n",
    "- [PIL](http://www.pythonware.com/products/pil/) y [scipy](https://www.scipy.org/) usados para probar el modelo con tus propias imágenes\n",
    "- dnn_app_utils es un arhivo con las funciones implementadas en el ejercicio anterior.."
   ]
  },
  {
   "cell_type": "code",
   "execution_count": 1,
   "metadata": {},
   "outputs": [],
   "source": [
    "import time\n",
    "import numpy as np\n",
    "import h5py\n",
    "import matplotlib.pyplot as plt\n",
    "import scipy\n",
    "from PIL import Image\n",
    "from scipy import ndimage\n",
    "from dnn_app_utils_v3 import *\n",
    "\n",
    "%matplotlib inline\n",
    "plt.rcParams['figure.figsize'] = (5.0, 4.0) # set default size of plots\n",
    "plt.rcParams['image.interpolation'] = 'nearest'\n",
    "plt.rcParams['image.cmap'] = 'gray'\n",
    "\n",
    "%load_ext autoreload\n",
    "%autoreload 2\n",
    "\n",
    "np.random.seed(1)"
   ]
  },
  {
   "cell_type": "markdown",
   "metadata": {},
   "source": [
    "## 2 - Dataset\n",
    "\n",
    "Usaremos el banco de datos llamado \"catvnotcat\"\n",
    "\n",
    "**Enunciado del problea**: Se te provee de un banco de datos (\"data.h5\") que contiene:\n",
    "    - un set de imágenes de entrenaminto con imágenes etiquetadas como gato (1) o no-gato(0)\n",
    "    - un set de imágenes de prueba con imágenes etiquetadas como gato (1) o no-gato(0)\n",
    "    - cada imágen es de la forma (num_px, num_px, 3) donde el 3 es por los 3 canales (RGB).\n"
   ]
  },
  {
   "cell_type": "code",
   "execution_count": 2,
   "metadata": {},
   "outputs": [],
   "source": [
    "train_x_orig, train_y, test_x_orig, test_y, classes = load_data()"
   ]
  },
  {
   "cell_type": "markdown",
   "metadata": {},
   "source": [
    "El siguiente código muestra una imágen del banco de datos. Puedes cambiar el número del índice y volver a correr la celda para ver otras imágenes."
   ]
  },
  {
   "cell_type": "code",
   "execution_count": 4,
   "metadata": {},
   "outputs": [
    {
     "name": "stdout",
     "output_type": "stream",
     "text": [
      "y = 1. It's a cat picture.\n"
     ]
    },
    {
     "data": {
      "image/png": "[encoded data removed]",
      "text/plain": [
       "<Figure size 500x400 with 1 Axes>"
      ]
     },
     "metadata": {},
     "output_type": "display_data"
    }
   ],
   "source": [
    "# Ejemplo de una imágen\n",
    "index = 25\n",
    "plt.imshow(train_x_orig[index])\n",
    "print (\"y = \" + str(train_y[0,index]) + \". It's a \" + classes[train_y[0,index]].decode(\"utf-8\") +  \" picture.\")"
   ]
  },
  {
   "cell_type": "code",
   "execution_count": 5,
   "metadata": {},
   "outputs": [
    {
     "name": "stdout",
     "output_type": "stream",
     "text": [
      "Numero de ejemplos de entrenamiento: 209\n",
      "Número de ejmplos de prueba: 50\n",
      "Cada imágen es de tamaño: (64, 64, 3)\n",
      "forma de train_x_orig: (209, 64, 64, 3)\n",
      "forma de train_y: (1, 209)\n",
      "forma de test_x_orig: (50, 64, 64, 3)\n",
      "forma de test_y: (1, 50)\n"
     ]
    }
   ],
   "source": [
    "# Explorar el dataset\n",
    "m_train = train_x_orig.shape[0]\n",
    "num_px = train_x_orig.shape[1]\n",
    "m_test = test_x_orig.shape[0]\n",
    "\n",
    "print (\"Numero de ejemplos de entrenamiento: \" + str(m_train))\n",
    "print (\"Número de ejmplos de prueba: \" + str(m_test))\n",
    "print (\"Cada imágen es de tamaño: (\" + str(num_px) + \", \" + str(num_px) + \", 3)\")\n",
    "print (\"forma de train_x_orig: \" + str(train_x_orig.shape))\n",
    "print (\"forma de train_y: \" + str(train_y.shape))\n",
    "print (\"forma de test_x_orig: \" + str(test_x_orig.shape))\n",
    "print (\"forma de test_y: \" + str(test_y.shape))"
   ]
  },
  {
   "cell_type": "markdown",
   "metadata": {},
   "source": [
    "Como siempre, es necesario ajustar y estandarizar la forma de las imágenes antes de introducirlas en la red. El código es el siguiente.\n",
    "\n",
    "<img src=\"images/imvectorkiank.png\" style=\"width:450px;height:300px;\">\n",
    "\n",
    "<caption><center> <u>Figure 1</u>: Image to vector conversion. <br> </center></caption>"
   ]
  },
  {
   "cell_type": "code",
   "execution_count": 6,
   "metadata": {},
   "outputs": [
    {
     "name": "stdout",
     "output_type": "stream",
     "text": [
      "forma de train_x: (12288, 209)\n",
      "forma de test_x: (12288, 50)\n"
     ]
    }
   ],
   "source": [
    "# Dar forma a los datos\n",
    "train_x_flatten = train_x_orig.reshape(train_x_orig.shape[0], -1).T   # El -1 hace que la función aplane las dimensiones restantes\n",
    "test_x_flatten = test_x_orig.reshape(test_x_orig.shape[0], -1).T\n",
    "\n",
    "# Estandariza los valores para que queden entre 0 y 1.\n",
    "train_x = train_x_flatten/255\n",
    "test_x = test_x_flatten/255\n",
    "\n",
    "print (\"forma de train_x: \" + str(train_x.shape))\n",
    "print (\"forma de test_x: \" + str(test_x.shape))\n"
   ]
  },
  {
   "cell_type": "markdown",
   "metadata": {},
   "source": [
    "$12,288$ es igual $64 \\times 64 \\times 3$ que es el número de pixeles totales de la imagen multiplicado por los 3 canales."
   ]
  },
  {
   "cell_type": "markdown",
   "metadata": {},
   "source": [
    "## 3 - Arquitectura del modelo"
   ]
  },
  {
   "cell_type": "markdown",
   "metadata": {},
   "source": [
    "Construiremos dos modelos diferentes:\n",
    "- Una red neuronal de 2 capas.\n",
    "- Una red neuronal profunda de L capas.\n",
    "\n",
    "Posteriormnte compararemos el desempeño de estos dos modelos y probaremos diferentes valores para $L$. \n",
    "\n",
    "### 3.1 - Red neuronal de 2 capas\n",
    "\n",
    "<img src=\"images/2layerNN_kiank.png\" style=\"width:650px;height:400px;\">\n",
    "<caption><center> <u>Figure 2</u>: Red neuronal de dos capas. <br> El modelo se puede resumir como: ***Entrada -> LINEAR -> RELU -> LINEAR -> SIGMOID -> Salida***. </center></caption>\n",
    "\n",
    "<u>Arquitectura detallada de la figura 2</u>:\n",
    "- La entrada es una figura de 64 x 64 x 3 que queda aplanada a un vector de $(12288,1)$. \n",
    "- El vector correspondiente $[x_0,x_1,...,x_{12287}]^T$ se multiplica por la matriz de pesos $W^{[1]}$ de dimensiones $(n^{[1]}, 12288)$.\n",
    "- S suma un término de \"bias\" y se calcula la función RELU para calcular el vector: $[a_0^{[1]}, a_1^{[1]},..., a_{n^{[1]}-1}^{[1]}]^T$.\n",
    "- Rpetimos el mismo proceso.\n",
    "- Multiplicamos el vector resultante por $W^{[2]}$ y agregamos el bias. \n",
    "- Finalment calculamos la función sigmoid del resultado. Si es mayor que 0.5, lo clasificamos como gato.\n",
    "\n",
    "### 3.2 - Red neuronal de L capas.\n",
    "\n",
    "It is hard to represent an L-layer deep neural network with the above representation. However, here is a simplified network representation:\n",
    "\n",
    "<img src=\"images/LlayerNN_kiank.png\" style=\"width:650px;height:400px;\">\n",
    "<caption><center> <u>Figure 3</u>: L-layer neural network. <br> The model can be summarized as: ***[LINEAR -> RELU] $\\times$ (L-1) -> LINEAR -> SIGMOID***</center></caption>\n",
    "\n",
    "<u>Detailed Architecture of figure 3</u>:\n",
    "- La entrada es una imágen de (64,64,3) la cual es \"aplanada\" a un vector de (12288,1).\n",
    "- El vector correspondiente: $[x_0,x_1,...,x_{12287}]^T$ es multiplicado por la matriz de pesos $W^{[1]}$ y luego se suma el \"bias\" $b^{[1]}$. El resultado es la unidad lineal.\n",
    "- A continuación se calcula la función Relu de la función lineal. Este proceso se repite varias veces para cada capa $(W^{[l]}, b^{[l]})$ Dependiendo de la arquitectura del modelo.\n",
    "- Finalmente se toma la función sigmoide de la unidad lineal de la última capa. Si el valor de la activación es mayor que 0.5, se clasifica como gato.\n",
    "\n",
    "### 3.3 - Metodología general\n",
    "\n",
    "Como siempre, seguiremos la metodología general para construir el modelo:\n",
    "   - 1. inicializar los parámetros / Definir los hiperparámetros.\n",
    "   - 2. Bucle que se repetirá un número de iteraciones (num_iterations) para el entrenamiento:\n",
    "        - a. Propagación hacia adelante\n",
    "        - b. Cálculo de la función costo\n",
    "        - c. Propagación hacia atrás.\n",
    "        - d. Actualización de parámetros (usando los gradientes de la propagación hacia atrás) \n",
    "   - 3. Usar los parámetros entrenados para predecir imágenes nuevas (test)"
   ]
  },
  {
   "cell_type": "markdown",
   "metadata": {},
   "source": [
    "## 4 - Red neuronal de dos capas\n",
    "\n",
    "Usa las funciones de ayuda implementadas en el ejercicio anterior para construir una red neuronal de 2 capas con la siguient eestructura: *LINEAR -> RELU -> LINEAR -> SIGMOID*. Las funciones construidas y sus entradas son:\n",
    "```python\n",
    "def initialize_parameters(n_x, n_h, n_y):\n",
    "    ...\n",
    "    return parameters \n",
    "def linear_activation_forward(A_prev, W, b, activation):\n",
    "    ...\n",
    "    return A, cache\n",
    "def compute_cost(AL, Y):\n",
    "    ...\n",
    "    return cost\n",
    "def linear_activation_backward(dA, cache, activation):\n",
    "    ...\n",
    "    return dA_prev, dW, db\n",
    "def update_parameters(parameters, grads, learning_rate):\n",
    "    ...\n",
    "    return parameters\n",
    "```"
   ]
  },
  {
   "cell_type": "code",
   "execution_count": 8,
   "metadata": {},
   "outputs": [],
   "source": [
    "### CONSTANTES QUE DEFINEN EL MODELO ####\n",
    "n_x = 12288     # num_px * num_px * 3, activaciones\n",
    "n_h = 7         # numero de neuronas de las capas ocultas\n",
    "n_y = 1         # numero de neuronas de la capa de salida\n",
    "layers_dims = (n_x, n_h, n_y)"
   ]
  },
  {
   "cell_type": "code",
   "execution_count": 17,
   "metadata": {},
   "outputs": [],
   "source": [
    "def two_layer_model(X, Y, layers_dims, learning_rate = 0.0075, num_iterations = 3000, print_cost=False):\n",
    "    \"\"\"\n",
    "    Implementa una red neuronal de dos capas: LINEAR->RELU->LINEAR->SIGMOID.\n",
    "    \n",
    "    Argumentos:\n",
    "    X -- datos de entrada de la forma (n_x, número de ejemplos)\n",
    "    Y -- vector de etiquetas verdaderas (contiene 1 si es un gato y 0 si no es un gato), de la forma (1, número de ejemplos)\n",
    "    layers_dims -- dimensiones de las capas (n_x, n_h, n_y)\n",
    "    num_iterations -- número de iteraciones del bucle de optimización\n",
    "    learning_rate -- tasa de aprendizaje para la actualización de parámetros\n",
    "    print_cost -- Variable para elegir si deseamos imprimir el costo cada 100 iteraciones\n",
    "    \n",
    "    Regresa:\n",
    "    parameters -- un diccionario con W1, W2, b1, and b2\n",
    "    \"\"\"\n",
    "    \n",
    "    np.random.seed(1)\n",
    "    grads = {}\n",
    "    costs = []                              # to keep track of the cost\n",
    "    m = X.shape[1]                           # number of examples\n",
    "    (n_x, n_h, n_y) = layers_dims\n",
    "    \n",
    "    # Inicializa los parámetros del diccionario llamando a una de las funciones implementadas anteriormente\n",
    "    ### INICIO ###\n",
    "    parameters = initialize_parameters(n_x, n_h, n_y) \n",
    "    ### FIN ###\n",
    "    \n",
    "    # Obtener W1, b1, W2 y b2 del diccionario de parámetros.\n",
    "    W1 = parameters[\"W1\"]\n",
    "    b1 = parameters[\"b1\"]\n",
    "    W2 = parameters[\"W2\"]\n",
    "    b2 = parameters[\"b2\"]\n",
    "    \n",
    "    # Loop (descenso pro gradiente)\n",
    "\n",
    "    for i in range(0, num_iterations):\n",
    "\n",
    "        # Propagación hacia adelante: LINEAR -> RELU -> LINEAR -> SIGMOID. Entradas: \"X, W1, b1, W2, b2\". Salidas: \"A1, cache1, A2, cache2\".\n",
    "        ### INICIO ###\n",
    "        \n",
    "        ### FIN ###\n",
    "        \n",
    "        # Calcular el costo\n",
    "        ### INICIO ###\n",
    "       \n",
    "        ### FIN ###\n",
    "        \n",
    "        # Inicializar la propagación hacia atrás\n",
    "        dA2 = - (np.divide(Y, A2) - np.divide(1 - Y, 1 - A2))\n",
    "        \n",
    "        # Propagación hacia atrás. Entradas: \"dA2, cache2, cache1\". Salidas: \"dA1, dW2, db2 dA0 (sin usar), dW1, db1\".\n",
    "        ### INICIO ###\n",
    "        \n",
    "        ### FIN ###\n",
    "        \n",
    "        # Crear el diccionario de gradientes ['dWl'] a dW1, grads['db1'] a db1, grads['dW2'] a dW2, grads['db2'] a db2\n",
    "        grads['dW1'] = dW1\n",
    "        grads['db1'] = db1\n",
    "        grads['dW2'] = dW2\n",
    "        grads['db2'] = db2\n",
    "        \n",
    "        # Actualizar parámetros.\n",
    "        ### INICIO ###\n",
    "        \n",
    "        ### FIN ###\n",
    "\n",
    "        # Recuperar W1, b1, W2, b2 de los parámetros\n",
    "        W1 = parameters[\"W1\"]\n",
    "        b1 = parameters[\"b1\"]\n",
    "        W2 = parameters[\"W2\"]\n",
    "        b2 = parameters[\"b2\"]\n",
    "        \n",
    "        # Imprimir el costo cada 100 iteraciones\n",
    "        if print_cost and i % 100 == 0:\n",
    "            print(\"Costo después de la iteración {}: {}\".format(i, np.squeeze(cost)))\n",
    "        if print_cost and i % 100 == 0:\n",
    "            costs.append(cost)\n",
    "       \n",
    "    # plot the cost\n",
    "\n",
    "    plt.plot(np.squeeze(costs))\n",
    "    plt.ylabel('cost')\n",
    "    plt.xlabel('iteraciones (cada 100)')\n",
    "    plt.title(\"Tasa de aprendizaje =\" + str(learning_rate))\n",
    "    plt.show()\n",
    "    \n",
    "    return parameters"
   ]
  },
  {
   "cell_type": "markdown",
   "metadata": {},
   "source": [
    "Corre la siguiente celda para entrenar tus parámtros. Observa si el modelo corre. El costo debe empezar a disminuir. Puede tomar hasta 5 minutos correr 2500 iteraciones.  It may take up to 5 minutes to run 2500 iterations. Verifica si el \"Costo depués de la iteración 0\" es igual al de la salida esperada que se encuentra abajo, si no, haz click en el cuadro (⬛) en la barra superior para detener la celda y encontrar el error."
   ]
  },
  {
   "cell_type": "code",
   "execution_count": 19,
   "metadata": {},
   "outputs": [
    {
     "name": "stdout",
     "output_type": "stream",
     "text": [
      "Costo después de la iteración 0: 0.6930497356599888\n",
      "Costo después de la iteración 100: 0.6464320953428849\n",
      "Costo después de la iteración 200: 0.6325140647912677\n",
      "Costo después de la iteración 300: 0.6015024920354665\n",
      "Costo después de la iteración 400: 0.5601966311605747\n",
      "Costo después de la iteración 500: 0.515830477276473\n",
      "Costo después de la iteración 600: 0.47549013139433266\n",
      "Costo después de la iteración 700: 0.4339163151225749\n",
      "Costo después de la iteración 800: 0.4007977536203887\n",
      "Costo después de la iteración 900: 0.35807050113237976\n",
      "Costo después de la iteración 1000: 0.3394281538366413\n",
      "Costo después de la iteración 1100: 0.3052753636196264\n",
      "Costo después de la iteración 1200: 0.27491377282130164\n",
      "Costo después de la iteración 1300: 0.24681768210614854\n",
      "Costo después de la iteración 1400: 0.19850735037466122\n",
      "Costo después de la iteración 1500: 0.17448318112556638\n",
      "Costo después de la iteración 1600: 0.1708076297809693\n",
      "Costo después de la iteración 1700: 0.11306524562164713\n",
      "Costo después de la iteración 1800: 0.09629426845937145\n",
      "Costo después de la iteración 1900: 0.08342617959726856\n",
      "Costo después de la iteración 2000: 0.07439078704319077\n",
      "Costo después de la iteración 2100: 0.06630748132267929\n",
      "Costo después de la iteración 2200: 0.059193295010381675\n",
      "Costo después de la iteración 2300: 0.05336140348560555\n",
      "Costo después de la iteración 2400: 0.04855478562877017\n"
     ]
    },
    {
     "data": {
      "image/png": "[encoded data removed]",
      "text/plain": [
       "<Figure size 500x400 with 1 Axes>"
      ]
     },
     "metadata": {},
     "output_type": "display_data"
    }
   ],
   "source": [
    "parameters = two_layer_model(train_x, train_y, layers_dims = (n_x, n_h, n_y), num_iterations = 2500, print_cost=True)"
   ]
  },
  {
   "cell_type": "markdown",
   "metadata": {},
   "source": [
    "**Expected Output**:\n",
    "<table> \n",
    "    <tr>\n",
    "        <td> **Cost after iteration 0**</td>\n",
    "        <td> 0.6930497356599888 </td>\n",
    "    </tr>\n",
    "    <tr>\n",
    "        <td> **Cost after iteration 100**</td>\n",
    "        <td> 0.6464320953428849 </td>\n",
    "    </tr>\n",
    "    <tr>\n",
    "        <td> **...**</td>\n",
    "        <td> ... </td>\n",
    "    </tr>\n",
    "    <tr>\n",
    "        <td> **Cost after iteration 2400**</td>\n",
    "        <td> 0.048554785628770226 </td>\n",
    "    </tr>\n",
    "</table>"
   ]
  },
  {
   "cell_type": "markdown",
   "metadata": {},
   "source": [
    "Ahora puedes utilizar los parámetros entrenados para clasificar imágenes del banco de datos. Para ver las predicciones en el banco de datos de entrenamiento y de predicción, corre la siguiente celda."
   ]
  },
  {
   "cell_type": "code",
   "execution_count": 20,
   "metadata": {},
   "outputs": [
    {
     "name": "stdout",
     "output_type": "stream",
     "text": [
      "Accuracy: 0.9999999999999998\n"
     ]
    }
   ],
   "source": [
    "predictions_train = predict(train_x, train_y, parameters)"
   ]
  },
  {
   "cell_type": "markdown",
   "metadata": {},
   "source": [
    "**Expected Output**:\n",
    "<table> \n",
    "    <tr>\n",
    "        <td> **Accuracy**</td>\n",
    "        <td> 1.0 </td>\n",
    "    </tr>\n",
    "</table>"
   ]
  },
  {
   "cell_type": "code",
   "execution_count": 21,
   "metadata": {
    "scrolled": true
   },
   "outputs": [
    {
     "name": "stdout",
     "output_type": "stream",
     "text": [
      "Accuracy: 0.72\n"
     ]
    }
   ],
   "source": [
    "predictions_test = predict(test_x, test_y, parameters)"
   ]
  },
  {
   "cell_type": "markdown",
   "metadata": {},
   "source": [
    "**Salida esperada**:\n",
    "\n",
    "<table> \n",
    "    <tr>\n",
    "        <td> **Precisión**</td>\n",
    "        <td> 0.72 </td>\n",
    "    </tr>\n",
    "</table>"
   ]
  },
  {
   "cell_type": "markdown",
   "metadata": {},
   "source": [
    "## 5 - Red neuronal de L capas\n",
    "\n",
    "Usa las funciones de ayuda implementadas antes para construir un modelo de red neuronal de $L$-capas con la siguiente estructura: *[LINEAR -> RELU]$\\times$(L-1) -> LINEAR -> SIGMOID*. Las funciones que usarás son:\n",
    "\n",
    "```python\n",
    "def initialize_parameters_deep(layers_dims):\n",
    "    ...\n",
    "    return parameters \n",
    "def L_model_forward(X, parameters):\n",
    "    ...\n",
    "    return AL, caches\n",
    "def compute_cost(AL, Y):\n",
    "    ...\n",
    "    return cost\n",
    "def L_model_backward(AL, Y, caches):\n",
    "    ...\n",
    "    return grads\n",
    "def update_parameters(parameters, grads, learning_rate):\n",
    "    ...\n",
    "    return parameters\n",
    "```"
   ]
  },
  {
   "cell_type": "code",
   "execution_count": null,
   "metadata": {},
   "outputs": [],
   "source": [
    "### CONSTANTES ###\n",
    "layers_dims = [12288, 20, 7, 5, 1] #  Modelo de 4 capas"
   ]
  },
  {
   "cell_type": "code",
   "execution_count": null,
   "metadata": {},
   "outputs": [],
   "source": [
    "\n",
    "def L_layer_model(X, Y, layers_dims, learning_rate = 0.0075, num_iterations = 3000, print_cost=False):\n",
    "    \"\"\"\n",
    "    Implementa una red neuronal de L capas: [LINEAR->RELU]*(L-1)->LINEAR->SIGMOID.\n",
    "    \n",
    "    Argumentos:\n",
    "    X -- datos de entrada de la forma (n_x, número de ejemplos)\n",
    "    Y -- vector de etiquetas verdaderas (contiene 1 si es un gato y 0 si no es un gato), de la forma (1, número de ejemplos)\n",
    "    layers_dims -- dimensiones de las capas (n_x, n_h, n_y)\n",
    "    num_iterations -- número de iteraciones del bucle de optimización\n",
    "    learning_rate -- tasa de aprendizaje para la actualización de parámetros\n",
    "    print_cost -- Variable para elegir si deseamos imprimir el costo cada 100 iteraciones\n",
    "    \n",
    "    Regresa:\n",
    "    parameters -- un diccionario con W1, W2, b1, and b2\n",
    "    \"\"\"\n",
    "\n",
    "    np.random.seed(1)\n",
    "    costs = []                         # mantiene un registro del costo\n",
    "    \n",
    "    # Inicialización de parámetros\n",
    "    ### INICIO ###\n",
    "    \n",
    "    ### FIN ###\n",
    "    \n",
    "    # Loop (descenso por gradiente)\n",
    "    for i in range(0, num_iterations):\n",
    "\n",
    "        # Propagación hacia adelante: [LINEAR -> RELU]*(L-1) -> LINEAR -> SIGMOID.\n",
    "        ### INICIO ###\n",
    "        \n",
    "        ### FIN ###\n",
    "        \n",
    "        # Calcular el costo.\n",
    "        ### INICIO ###\n",
    "        \n",
    "        ### FIN ###\n",
    "    \n",
    "        # Propagación hacia atrás.\n",
    "        ### INICIO  ###\n",
    "        \n",
    "        ### FIN ###\n",
    " \n",
    "        # Actualizar parámetros.\n",
    "        ### INICIO ###\n",
    "        \n",
    "        ### FIN ###\n",
    "                \n",
    "        # Imprimir el costo cada 100 iteraciones\n",
    "        if print_cost and i % 100 == 0:\n",
    "            print (\"Costo después de la iteración %i: %f\" %(i, cost))\n",
    "        if print_cost and i % 100 == 0:\n",
    "            costs.append(cost)\n",
    "            \n",
    "    # graficar el costo\n",
    "    plt.plot(np.squeeze(costs))\n",
    "    plt.ylabel('cost')\n",
    "    plt.xlabel('iterations (per hundreds)')\n",
    "    plt.title(\"Learning rate =\" + str(learning_rate))\n",
    "    plt.show()\n",
    "    \n",
    "    return parameters"
   ]
  },
  {
   "cell_type": "markdown",
   "metadata": {},
   "source": [
    "Ahora entrenaremos el modelo como una red neuronal de 4 capas. \n",
    "\n",
    "Corre la siguiente celda para entrenar tus parámtros. Observa si el modelo corre. El costo debe empezar a disminuir. Puede tomar hasta 5 minutos correr 2500 iteraciones.  It may take up to 5 minutes to run 2500 iterations. Verifica si el \"Costo depués de la iteración 0\" es igual al de la salida esperada que se encuentra abajo, si no, haz click en el cuadro (⬛) en la barra superior para detener la celda y encontrar el error."
   ]
  },
  {
   "cell_type": "code",
   "execution_count": null,
   "metadata": {},
   "outputs": [],
   "source": [
    "parameters = L_layer_model(train_x, train_y, layers_dims, num_iterations = 2500, print_cost = True)"
   ]
  },
  {
   "cell_type": "markdown",
   "metadata": {},
   "source": [
    "**Expected Output**:\n",
    "<table> \n",
    "    <tr>\n",
    "        <td> **Cost after iteration 0**</td>\n",
    "        <td> 0.771749 </td>\n",
    "    </tr>\n",
    "    <tr>\n",
    "        <td> **Cost after iteration 100**</td>\n",
    "        <td> 0.672053 </td>\n",
    "    </tr>\n",
    "    <tr>\n",
    "        <td> **...**</td>\n",
    "        <td> ... </td>\n",
    "    </tr>\n",
    "    <tr>\n",
    "        <td> **Cost after iteration 2400**</td>\n",
    "        <td> 0.092878 </td>\n",
    "    </tr>\n",
    "</table>"
   ]
  },
  {
   "cell_type": "code",
   "execution_count": null,
   "metadata": {
    "scrolled": true
   },
   "outputs": [],
   "source": [
    "pred_train = predict(train_x, train_y, parameters)"
   ]
  },
  {
   "cell_type": "markdown",
   "metadata": {},
   "source": [
    "<table>\n",
    "    <tr>\n",
    "    <td>\n",
    "    **Train Accuracy**\n",
    "    </td>\n",
    "    <td>\n",
    "    0.985645933014\n",
    "    </td>\n",
    "    </tr>\n",
    "</table>"
   ]
  },
  {
   "cell_type": "code",
   "execution_count": null,
   "metadata": {},
   "outputs": [],
   "source": [
    "pred_test = predict(test_x, test_y, parameters)"
   ]
  },
  {
   "cell_type": "markdown",
   "metadata": {},
   "source": [
    "**Salida esperada**:\n",
    "\n",
    "<table> \n",
    "    <tr>\n",
    "        <td> **Test Accuracy**</td>\n",
    "        <td> 0.8 </td>\n",
    "    </tr>\n",
    "</table>"
   ]
  },
  {
   "cell_type": "markdown",
   "metadata": {},
   "source": [
    "##  6) Results Analysis"
   ]
  },
  {
   "cell_type": "code",
   "execution_count": null,
   "metadata": {},
   "outputs": [],
   "source": [
    "print_mislabeled_images(classes, test_x, test_y, pred_test)"
   ]
  },
  {
   "cell_type": "markdown",
   "metadata": {},
   "source": [
    "## 7) Prueba con tu propia imágen ##"
   ]
  },
  {
   "cell_type": "code",
   "execution_count": null,
   "metadata": {},
   "outputs": [],
   "source": [
    "from PIL import Image\n",
    "\n",
    "fileImage = Image.open(\"Cat03.jpg\").convert(\"RGB\").resize([num_px,num_px],Image.ANTIALIAS)\n",
    "my_label_y = [1] # the true class of your image (1 -> cat, 0 -> non-cat)\n",
    "\n",
    "image = np.array(fileImage)\n",
    "my_image = image.reshape(num_px*num_px*3,1)\n",
    "my_image = my_image/255.\n",
    "my_predicted_image = predict(my_image, my_label_y, parameters)\n",
    "\n",
    "plt.imshow(image)\n",
    "print (\"y = \" + str(np.squeeze(my_predicted_image)) + \", your L-layer model predicts a \\\"\" + classes[int(np.squeeze(my_predicted_image)),].decode(\"utf-8\") +  \"\\\" picture.\")"
   ]
  },
  {
   "cell_type": "code",
   "execution_count": null,
   "metadata": {},
   "outputs": [],
   "source": []
  }
 ],
 "metadata": {
  "coursera": {
   "course_slug": "neural-networks-deep-learning",
   "graded_item_id": "TSPse",
   "launcher_item_id": "24mxX"
  },
  "kernelspec": {
   "display_name": "Python 3 (ipykernel)",
   "language": "python",
   "name": "python3"
  },
  "language_info": {
   "codemirror_mode": {
    "name": "ipython",
    "version": 3
   },
   "file_extension": ".py",
   "mimetype": "text/x-python",
   "name": "python",
   "nbconvert_exporter": "python",
   "pygments_lexer": "ipython3",
   "version": "3.10.0"
  },
  "varInspector": {
   "cols": {
    "lenName": 16,
    "lenType": 16,
    "lenVar": 40
   },
   "kernels_config": {
    "python": {
     "delete_cmd_postfix": "",
     "delete_cmd_prefix": "del ",
     "library": "var_list.py",
     "varRefreshCmd": "print(var_dic_list())"
    },
    "r": {
     "delete_cmd_postfix": ") ",
     "delete_cmd_prefix": "rm(",
     "library": "var_list.r",
     "varRefreshCmd": "cat(var_dic_list()) "
    }
   },
   "oldHeight": 210.4,
   "position": {
    "height": "712px",
    "left": "1146px",
    "right": "20px",
    "top": "-2px",
    "width": "371px"
   },
   "types_to_exclude": [
    "module",
    "function",
    "builtin_function_or_method",
    "instance",
    "_Feature"
   ],
   "varInspector_section_display": "block",
   "window_display": false
  }
 },
 "nbformat": 4,
 "nbformat_minor": 4
}
